{
 "cells": [
  {
   "cell_type": "markdown",
   "metadata": {},
   "source": [
    "## 0.UPLOAD LIBRARIES"
   ]
  },
  {
   "cell_type": "code",
   "execution_count": 1,
   "metadata": {
    "execution": {
     "iopub.execute_input": "2025-05-22T08:57:42.775475Z",
     "iopub.status.busy": "2025-05-22T08:57:42.775153Z",
     "iopub.status.idle": "2025-05-22T08:57:50.881033Z",
     "shell.execute_reply": "2025-05-22T08:57:50.879935Z",
     "shell.execute_reply.started": "2025-05-22T08:57:42.775449Z"
    }
   },
   "outputs": [],
   "source": [
    "import os\n",
    "import pandas as pd\n",
    "import tqdm\n",
    "import gc\n",
    "import matplotlib.pyplot as plt\n",
    "import lightgbm as lgb\n",
    "import xgboost as xgb\n",
    "import pickle\n",
    "\n",
    "from catboost import CatBoostClassifier\n",
    "from sklearn.model_selection import train_test_split\n",
    "from sklearn.metrics import roc_auc_score, roc_curve"
   ]
  },
  {
   "cell_type": "code",
   "execution_count": 2,
   "metadata": {
    "execution": {
     "iopub.execute_input": "2025-05-22T08:57:54.547646Z",
     "iopub.status.busy": "2025-05-22T08:57:54.547020Z",
     "iopub.status.idle": "2025-05-22T08:57:54.556007Z",
     "shell.execute_reply": "2025-05-22T08:57:54.555053Z",
     "shell.execute_reply.started": "2025-05-22T08:57:54.547615Z"
    }
   },
   "outputs": [],
   "source": [
    "import sys\n",
    "sys.path.append(\"/kaggle/input/credit-pipeline-script\")\n",
    "\n",
    "from credit_pipeline import CreditScoringPipeline"
   ]
  },
  {
   "cell_type": "markdown",
   "metadata": {},
   "source": [
    "## 1.DATA PREPARATION"
   ]
  },
  {
   "cell_type": "code",
   "execution_count": 1,
   "metadata": {
    "execution": {
     "iopub.execute_input": "2025-05-20T21:12:21.955031Z",
     "iopub.status.busy": "2025-05-20T21:12:21.954756Z",
     "iopub.status.idle": "2025-05-20T21:12:22.239898Z",
     "shell.execute_reply": "2025-05-20T21:12:22.239326Z",
     "shell.execute_reply.started": "2025-05-20T21:12:21.955012Z"
    }
   },
   "outputs": [],
   "source": [
    "def read_parquet_files(path_to_dataset, start_from=0, num_parts_to_read=1, columns=None):\n",
    "    dataset_paths = sorted([\n",
    "        os.path.join(path_to_dataset, f)\n",
    "        for f in os.listdir(path_to_dataset)\n",
    "        if f.endswith('.pq')\n",
    "    ])\n",
    "    chunks = dataset_paths[start_from: start_from + num_parts_to_read]\n",
    "    res = []\n",
    "    for path in chunks:\n",
    "        df = pd.read_parquet(path, columns=columns)\n",
    "        res.append(df)\n",
    "        #далее возвращаем df из объединенных партиций\n",
    "    return pd.concat(res).reset_index(drop=True)\n",
    "\n",
    "def process_and_aggregate_chunk(df):\n",
    "    drop_cols = ['rn']\n",
    "    for col in drop_cols:\n",
    "        if col in df.columns:\n",
    "            df = df.drop(columns=col)\n",
    "\n",
    "    cat_cols = [col for col in df.columns if col != 'id' and df[col].nunique() <= 50]\n",
    "    \n",
    "    dummies = pd.get_dummies(df[cat_cols], columns=cat_cols, dtype='uint8')\n",
    "    #финальный df из id и ohe признаков\n",
    "    df = pd.concat([df[['id']], dummies], axis=1)\n",
    "    #\"схлопываем\" по id\n",
    "    df_agg = df.groupby('id').sum().reset_index()\n",
    "    return df_agg\n",
    "\n",
    "def prepare_data_in_batches(path_to_dataset, num_parts_total=12, batch_size=1):\n",
    "    all_aggregated_chunks = []\n",
    "\n",
    "    for step in tqdm.tqdm(range(0, num_parts_total, batch_size), desc=\"Processing batches\"):\n",
    "        df = read_parquet_files(path_to_dataset, start_from=step, num_parts_to_read=batch_size)\n",
    "        df_agg = process_and_aggregate_chunk(df)\n",
    "        all_aggregated_chunks.append(df_agg)\n",
    "        #чистим память после каждого батча, так как работаем в Kaggle\n",
    "        del df, df_agg\n",
    "        gc.collect()\n",
    "\n",
    "    final_data = pd.concat(all_aggregated_chunks).groupby('id').sum().reset_index()\n",
    "    return final_data"
   ]
  },
  {
   "cell_type": "code",
   "execution_count": 2,
   "metadata": {
    "execution": {
     "iopub.execute_input": "2025-05-20T21:12:29.055818Z",
     "iopub.status.busy": "2025-05-20T21:12:29.055163Z",
     "iopub.status.idle": "2025-05-20T21:17:31.649907Z",
     "shell.execute_reply": "2025-05-20T21:17:31.649217Z",
     "shell.execute_reply.started": "2025-05-20T21:12:29.055792Z"
    }
   },
   "outputs": [
    {
     "name": "stderr",
     "output_type": "stream",
     "text": [
      "Processing batches: 100%|██████████| 12/12 [03:28<00:00, 17.40s/it]\n"
     ]
    }
   ],
   "source": [
    "final_df = prepare_data_in_batches(\n",
    "    path_to_dataset='/kaggle/input/train-data/',\n",
    "    num_parts_total=12,\n",
    "    batch_size=1\n",
    ")"
   ]
  },
  {
   "cell_type": "code",
   "execution_count": 4,
   "metadata": {
    "execution": {
     "iopub.execute_input": "2025-05-20T21:17:41.147082Z",
     "iopub.status.busy": "2025-05-20T21:17:41.146800Z",
     "iopub.status.idle": "2025-05-20T21:17:41.180207Z",
     "shell.execute_reply": "2025-05-20T21:17:41.179528Z",
     "shell.execute_reply.started": "2025-05-20T21:17:41.147061Z"
    }
   },
   "outputs": [
    {
     "data": {
      "text/html": [
       "<div>\n",
       "<style scoped>\n",
       "    .dataframe tbody tr th:only-of-type {\n",
       "        vertical-align: middle;\n",
       "    }\n",
       "\n",
       "    .dataframe tbody tr th {\n",
       "        vertical-align: top;\n",
       "    }\n",
       "\n",
       "    .dataframe thead th {\n",
       "        text-align: right;\n",
       "    }\n",
       "</style>\n",
       "<table border=\"1\" class=\"dataframe\">\n",
       "  <thead>\n",
       "    <tr style=\"text-align: right;\">\n",
       "      <th></th>\n",
       "      <th>id</th>\n",
       "      <th>pre_since_opened_0</th>\n",
       "      <th>pre_since_opened_1</th>\n",
       "      <th>pre_since_opened_2</th>\n",
       "      <th>pre_since_opened_3</th>\n",
       "      <th>pre_since_opened_4</th>\n",
       "      <th>pre_since_opened_5</th>\n",
       "      <th>pre_since_opened_6</th>\n",
       "      <th>pre_since_opened_7</th>\n",
       "      <th>pre_since_opened_8</th>\n",
       "      <th>...</th>\n",
       "      <th>pre_loans530_8</th>\n",
       "      <th>pre_loans530_9</th>\n",
       "      <th>pre_loans_total_overdue_1</th>\n",
       "      <th>pre_loans_max_overdue_sum_0</th>\n",
       "      <th>pre_loans3060_0</th>\n",
       "      <th>pre_loans3060_3</th>\n",
       "      <th>pre_loans3060_4</th>\n",
       "      <th>pre_loans6090_0</th>\n",
       "      <th>pre_loans5_10</th>\n",
       "      <th>pre_loans530_17</th>\n",
       "    </tr>\n",
       "  </thead>\n",
       "  <tbody>\n",
       "    <tr>\n",
       "      <th>0</th>\n",
       "      <td>0</td>\n",
       "      <td>0</td>\n",
       "      <td>1</td>\n",
       "      <td>1</td>\n",
       "      <td>1</td>\n",
       "      <td>1</td>\n",
       "      <td>2</td>\n",
       "      <td>0</td>\n",
       "      <td>1</td>\n",
       "      <td>0</td>\n",
       "      <td>...</td>\n",
       "      <td>0.0</td>\n",
       "      <td>0.0</td>\n",
       "      <td>0.0</td>\n",
       "      <td>0.0</td>\n",
       "      <td>0.0</td>\n",
       "      <td>0.0</td>\n",
       "      <td>0.0</td>\n",
       "      <td>0.0</td>\n",
       "      <td>0.0</td>\n",
       "      <td>0.0</td>\n",
       "    </tr>\n",
       "    <tr>\n",
       "      <th>1</th>\n",
       "      <td>1</td>\n",
       "      <td>0</td>\n",
       "      <td>0</td>\n",
       "      <td>1</td>\n",
       "      <td>0</td>\n",
       "      <td>0</td>\n",
       "      <td>0</td>\n",
       "      <td>0</td>\n",
       "      <td>1</td>\n",
       "      <td>2</td>\n",
       "      <td>...</td>\n",
       "      <td>0.0</td>\n",
       "      <td>0.0</td>\n",
       "      <td>0.0</td>\n",
       "      <td>0.0</td>\n",
       "      <td>0.0</td>\n",
       "      <td>0.0</td>\n",
       "      <td>0.0</td>\n",
       "      <td>0.0</td>\n",
       "      <td>0.0</td>\n",
       "      <td>0.0</td>\n",
       "    </tr>\n",
       "    <tr>\n",
       "      <th>2</th>\n",
       "      <td>2</td>\n",
       "      <td>1</td>\n",
       "      <td>0</td>\n",
       "      <td>0</td>\n",
       "      <td>0</td>\n",
       "      <td>0</td>\n",
       "      <td>0</td>\n",
       "      <td>0</td>\n",
       "      <td>0</td>\n",
       "      <td>0</td>\n",
       "      <td>...</td>\n",
       "      <td>0.0</td>\n",
       "      <td>0.0</td>\n",
       "      <td>0.0</td>\n",
       "      <td>0.0</td>\n",
       "      <td>0.0</td>\n",
       "      <td>0.0</td>\n",
       "      <td>0.0</td>\n",
       "      <td>0.0</td>\n",
       "      <td>0.0</td>\n",
       "      <td>0.0</td>\n",
       "    </tr>\n",
       "    <tr>\n",
       "      <th>3</th>\n",
       "      <td>3</td>\n",
       "      <td>0</td>\n",
       "      <td>3</td>\n",
       "      <td>1</td>\n",
       "      <td>0</td>\n",
       "      <td>2</td>\n",
       "      <td>1</td>\n",
       "      <td>3</td>\n",
       "      <td>0</td>\n",
       "      <td>0</td>\n",
       "      <td>...</td>\n",
       "      <td>0.0</td>\n",
       "      <td>0.0</td>\n",
       "      <td>0.0</td>\n",
       "      <td>0.0</td>\n",
       "      <td>0.0</td>\n",
       "      <td>0.0</td>\n",
       "      <td>0.0</td>\n",
       "      <td>0.0</td>\n",
       "      <td>0.0</td>\n",
       "      <td>0.0</td>\n",
       "    </tr>\n",
       "    <tr>\n",
       "      <th>4</th>\n",
       "      <td>4</td>\n",
       "      <td>0</td>\n",
       "      <td>0</td>\n",
       "      <td>0</td>\n",
       "      <td>0</td>\n",
       "      <td>0</td>\n",
       "      <td>0</td>\n",
       "      <td>0</td>\n",
       "      <td>0</td>\n",
       "      <td>0</td>\n",
       "      <td>...</td>\n",
       "      <td>0.0</td>\n",
       "      <td>0.0</td>\n",
       "      <td>0.0</td>\n",
       "      <td>0.0</td>\n",
       "      <td>0.0</td>\n",
       "      <td>0.0</td>\n",
       "      <td>0.0</td>\n",
       "      <td>0.0</td>\n",
       "      <td>0.0</td>\n",
       "      <td>0.0</td>\n",
       "    </tr>\n",
       "  </tbody>\n",
       "</table>\n",
       "<p>5 rows × 420 columns</p>\n",
       "</div>"
      ],
      "text/plain": [
       "   id  pre_since_opened_0  pre_since_opened_1  pre_since_opened_2  \\\n",
       "0   0                   0                   1                   1   \n",
       "1   1                   0                   0                   1   \n",
       "2   2                   1                   0                   0   \n",
       "3   3                   0                   3                   1   \n",
       "4   4                   0                   0                   0   \n",
       "\n",
       "   pre_since_opened_3  pre_since_opened_4  pre_since_opened_5  \\\n",
       "0                   1                   1                   2   \n",
       "1                   0                   0                   0   \n",
       "2                   0                   0                   0   \n",
       "3                   0                   2                   1   \n",
       "4                   0                   0                   0   \n",
       "\n",
       "   pre_since_opened_6  pre_since_opened_7  pre_since_opened_8  ...  \\\n",
       "0                   0                   1                   0  ...   \n",
       "1                   0                   1                   2  ...   \n",
       "2                   0                   0                   0  ...   \n",
       "3                   3                   0                   0  ...   \n",
       "4                   0                   0                   0  ...   \n",
       "\n",
       "   pre_loans530_8  pre_loans530_9  pre_loans_total_overdue_1  \\\n",
       "0             0.0             0.0                        0.0   \n",
       "1             0.0             0.0                        0.0   \n",
       "2             0.0             0.0                        0.0   \n",
       "3             0.0             0.0                        0.0   \n",
       "4             0.0             0.0                        0.0   \n",
       "\n",
       "   pre_loans_max_overdue_sum_0  pre_loans3060_0  pre_loans3060_3  \\\n",
       "0                          0.0              0.0              0.0   \n",
       "1                          0.0              0.0              0.0   \n",
       "2                          0.0              0.0              0.0   \n",
       "3                          0.0              0.0              0.0   \n",
       "4                          0.0              0.0              0.0   \n",
       "\n",
       "   pre_loans3060_4  pre_loans6090_0  pre_loans5_10  pre_loans530_17  \n",
       "0              0.0              0.0            0.0              0.0  \n",
       "1              0.0              0.0            0.0              0.0  \n",
       "2              0.0              0.0            0.0              0.0  \n",
       "3              0.0              0.0            0.0              0.0  \n",
       "4              0.0              0.0            0.0              0.0  \n",
       "\n",
       "[5 rows x 420 columns]"
      ]
     },
     "execution_count": 4,
     "metadata": {},
     "output_type": "execute_result"
    }
   ],
   "source": [
    "final_df.head()"
   ]
  },
  {
   "cell_type": "code",
   "execution_count": 5,
   "metadata": {
    "execution": {
     "iopub.execute_input": "2025-05-20T21:17:45.859562Z",
     "iopub.status.busy": "2025-05-20T21:17:45.859009Z",
     "iopub.status.idle": "2025-05-20T21:17:45.880538Z",
     "shell.execute_reply": "2025-05-20T21:17:45.879723Z",
     "shell.execute_reply.started": "2025-05-20T21:17:45.859536Z"
    }
   },
   "outputs": [
    {
     "name": "stdout",
     "output_type": "stream",
     "text": [
      "<class 'pandas.core.frame.DataFrame'>\n",
      "RangeIndex: 3000000 entries, 0 to 2999999\n",
      "Columns: 420 entries, id to pre_loans530_17\n",
      "dtypes: float64(27), int64(1), uint8(392)\n",
      "memory usage: 1.7 GB\n"
     ]
    }
   ],
   "source": [
    "final_df.info()"
   ]
  },
  {
   "cell_type": "code",
   "execution_count": 7,
   "metadata": {
    "execution": {
     "iopub.execute_input": "2025-05-20T21:20:07.067017Z",
     "iopub.status.busy": "2025-05-20T21:20:07.066708Z",
     "iopub.status.idle": "2025-05-20T21:20:07.575004Z",
     "shell.execute_reply": "2025-05-20T21:20:07.574143Z",
     "shell.execute_reply.started": "2025-05-20T21:20:07.066996Z"
    }
   },
   "outputs": [
    {
     "data": {
      "text/html": [
       "<div>\n",
       "<style scoped>\n",
       "    .dataframe tbody tr th:only-of-type {\n",
       "        vertical-align: middle;\n",
       "    }\n",
       "\n",
       "    .dataframe tbody tr th {\n",
       "        vertical-align: top;\n",
       "    }\n",
       "\n",
       "    .dataframe thead th {\n",
       "        text-align: right;\n",
       "    }\n",
       "</style>\n",
       "<table border=\"1\" class=\"dataframe\">\n",
       "  <thead>\n",
       "    <tr style=\"text-align: right;\">\n",
       "      <th></th>\n",
       "      <th>id</th>\n",
       "      <th>flag</th>\n",
       "    </tr>\n",
       "  </thead>\n",
       "  <tbody>\n",
       "    <tr>\n",
       "      <th>0</th>\n",
       "      <td>0</td>\n",
       "      <td>0</td>\n",
       "    </tr>\n",
       "    <tr>\n",
       "      <th>1</th>\n",
       "      <td>1</td>\n",
       "      <td>0</td>\n",
       "    </tr>\n",
       "    <tr>\n",
       "      <th>2</th>\n",
       "      <td>2</td>\n",
       "      <td>0</td>\n",
       "    </tr>\n",
       "    <tr>\n",
       "      <th>3</th>\n",
       "      <td>3</td>\n",
       "      <td>0</td>\n",
       "    </tr>\n",
       "    <tr>\n",
       "      <th>4</th>\n",
       "      <td>4</td>\n",
       "      <td>0</td>\n",
       "    </tr>\n",
       "  </tbody>\n",
       "</table>\n",
       "</div>"
      ],
      "text/plain": [
       "   id  flag\n",
       "0   0     0\n",
       "1   1     0\n",
       "2   2     0\n",
       "3   3     0\n",
       "4   4     0"
      ]
     },
     "execution_count": 7,
     "metadata": {},
     "output_type": "execute_result"
    }
   ],
   "source": [
    "target_df = pd.read_csv('/kaggle/input/train-data/train_target.csv')\n",
    "target_df.head()"
   ]
  },
  {
   "cell_type": "code",
   "execution_count": 9,
   "metadata": {
    "execution": {
     "iopub.execute_input": "2025-05-20T21:20:40.871311Z",
     "iopub.status.busy": "2025-05-20T21:20:40.871020Z",
     "iopub.status.idle": "2025-05-20T21:20:42.277032Z",
     "shell.execute_reply": "2025-05-20T21:20:42.276387Z",
     "shell.execute_reply.started": "2025-05-20T21:20:40.871293Z"
    }
   },
   "outputs": [],
   "source": [
    "merged_df = pd.merge(target_df, final_df, on='id', how='inner')"
   ]
  },
  {
   "cell_type": "code",
   "execution_count": 10,
   "metadata": {
    "execution": {
     "iopub.execute_input": "2025-05-20T21:20:47.263282Z",
     "iopub.status.busy": "2025-05-20T21:20:47.262717Z",
     "iopub.status.idle": "2025-05-20T21:20:47.267695Z",
     "shell.execute_reply": "2025-05-20T21:20:47.266838Z",
     "shell.execute_reply.started": "2025-05-20T21:20:47.263256Z"
    }
   },
   "outputs": [
    {
     "name": "stdout",
     "output_type": "stream",
     "text": [
      "(3000000, 421)\n"
     ]
    }
   ],
   "source": [
    "print(merged_df.shape)"
   ]
  },
  {
   "cell_type": "code",
   "execution_count": 12,
   "metadata": {
    "execution": {
     "iopub.execute_input": "2025-05-20T21:23:01.626866Z",
     "iopub.status.busy": "2025-05-20T21:23:01.626582Z",
     "iopub.status.idle": "2025-05-20T21:23:26.392206Z",
     "shell.execute_reply": "2025-05-20T21:23:26.391442Z",
     "shell.execute_reply.started": "2025-05-20T21:23:01.626847Z"
    }
   },
   "outputs": [],
   "source": [
    "merged_df.to_parquet(\"/kaggle/working/merged_df.parquet\", index=False)"
   ]
  },
  {
   "cell_type": "markdown",
   "metadata": {
    "execution": {
     "iopub.execute_input": "2025-05-20T21:26:36.226981Z",
     "iopub.status.busy": "2025-05-20T21:26:36.226354Z",
     "iopub.status.idle": "2025-05-20T21:26:36.230472Z",
     "shell.execute_reply": "2025-05-20T21:26:36.229647Z",
     "shell.execute_reply.started": "2025-05-20T21:26:36.226954Z"
    }
   },
   "source": [
    "## 2.MODELING"
   ]
  },
  {
   "cell_type": "code",
   "execution_count": 3,
   "metadata": {
    "execution": {
     "iopub.execute_input": "2025-05-22T08:58:01.686720Z",
     "iopub.status.busy": "2025-05-22T08:58:01.686375Z",
     "iopub.status.idle": "2025-05-22T08:58:08.513044Z",
     "shell.execute_reply": "2025-05-22T08:58:08.511935Z",
     "shell.execute_reply.started": "2025-05-22T08:58:01.686694Z"
    }
   },
   "outputs": [
    {
     "data": {
      "text/html": [
       "<div>\n",
       "<style scoped>\n",
       "    .dataframe tbody tr th:only-of-type {\n",
       "        vertical-align: middle;\n",
       "    }\n",
       "\n",
       "    .dataframe tbody tr th {\n",
       "        vertical-align: top;\n",
       "    }\n",
       "\n",
       "    .dataframe thead th {\n",
       "        text-align: right;\n",
       "    }\n",
       "</style>\n",
       "<table border=\"1\" class=\"dataframe\">\n",
       "  <thead>\n",
       "    <tr style=\"text-align: right;\">\n",
       "      <th></th>\n",
       "      <th>id</th>\n",
       "      <th>flag</th>\n",
       "      <th>pre_since_opened_0</th>\n",
       "      <th>pre_since_opened_1</th>\n",
       "      <th>pre_since_opened_2</th>\n",
       "      <th>pre_since_opened_3</th>\n",
       "      <th>pre_since_opened_4</th>\n",
       "      <th>pre_since_opened_5</th>\n",
       "      <th>pre_since_opened_6</th>\n",
       "      <th>pre_since_opened_7</th>\n",
       "      <th>...</th>\n",
       "      <th>pre_loans530_8</th>\n",
       "      <th>pre_loans530_9</th>\n",
       "      <th>pre_loans_total_overdue_1</th>\n",
       "      <th>pre_loans_max_overdue_sum_0</th>\n",
       "      <th>pre_loans3060_0</th>\n",
       "      <th>pre_loans3060_3</th>\n",
       "      <th>pre_loans3060_4</th>\n",
       "      <th>pre_loans6090_0</th>\n",
       "      <th>pre_loans5_10</th>\n",
       "      <th>pre_loans530_17</th>\n",
       "    </tr>\n",
       "  </thead>\n",
       "  <tbody>\n",
       "    <tr>\n",
       "      <th>0</th>\n",
       "      <td>0</td>\n",
       "      <td>0</td>\n",
       "      <td>0</td>\n",
       "      <td>1</td>\n",
       "      <td>1</td>\n",
       "      <td>1</td>\n",
       "      <td>1</td>\n",
       "      <td>2</td>\n",
       "      <td>0</td>\n",
       "      <td>1</td>\n",
       "      <td>...</td>\n",
       "      <td>0.0</td>\n",
       "      <td>0.0</td>\n",
       "      <td>0.0</td>\n",
       "      <td>0.0</td>\n",
       "      <td>0.0</td>\n",
       "      <td>0.0</td>\n",
       "      <td>0.0</td>\n",
       "      <td>0.0</td>\n",
       "      <td>0.0</td>\n",
       "      <td>0.0</td>\n",
       "    </tr>\n",
       "    <tr>\n",
       "      <th>1</th>\n",
       "      <td>1</td>\n",
       "      <td>0</td>\n",
       "      <td>0</td>\n",
       "      <td>0</td>\n",
       "      <td>1</td>\n",
       "      <td>0</td>\n",
       "      <td>0</td>\n",
       "      <td>0</td>\n",
       "      <td>0</td>\n",
       "      <td>1</td>\n",
       "      <td>...</td>\n",
       "      <td>0.0</td>\n",
       "      <td>0.0</td>\n",
       "      <td>0.0</td>\n",
       "      <td>0.0</td>\n",
       "      <td>0.0</td>\n",
       "      <td>0.0</td>\n",
       "      <td>0.0</td>\n",
       "      <td>0.0</td>\n",
       "      <td>0.0</td>\n",
       "      <td>0.0</td>\n",
       "    </tr>\n",
       "    <tr>\n",
       "      <th>2</th>\n",
       "      <td>2</td>\n",
       "      <td>0</td>\n",
       "      <td>1</td>\n",
       "      <td>0</td>\n",
       "      <td>0</td>\n",
       "      <td>0</td>\n",
       "      <td>0</td>\n",
       "      <td>0</td>\n",
       "      <td>0</td>\n",
       "      <td>0</td>\n",
       "      <td>...</td>\n",
       "      <td>0.0</td>\n",
       "      <td>0.0</td>\n",
       "      <td>0.0</td>\n",
       "      <td>0.0</td>\n",
       "      <td>0.0</td>\n",
       "      <td>0.0</td>\n",
       "      <td>0.0</td>\n",
       "      <td>0.0</td>\n",
       "      <td>0.0</td>\n",
       "      <td>0.0</td>\n",
       "    </tr>\n",
       "    <tr>\n",
       "      <th>3</th>\n",
       "      <td>3</td>\n",
       "      <td>0</td>\n",
       "      <td>0</td>\n",
       "      <td>3</td>\n",
       "      <td>1</td>\n",
       "      <td>0</td>\n",
       "      <td>2</td>\n",
       "      <td>1</td>\n",
       "      <td>3</td>\n",
       "      <td>0</td>\n",
       "      <td>...</td>\n",
       "      <td>0.0</td>\n",
       "      <td>0.0</td>\n",
       "      <td>0.0</td>\n",
       "      <td>0.0</td>\n",
       "      <td>0.0</td>\n",
       "      <td>0.0</td>\n",
       "      <td>0.0</td>\n",
       "      <td>0.0</td>\n",
       "      <td>0.0</td>\n",
       "      <td>0.0</td>\n",
       "    </tr>\n",
       "    <tr>\n",
       "      <th>4</th>\n",
       "      <td>4</td>\n",
       "      <td>0</td>\n",
       "      <td>0</td>\n",
       "      <td>0</td>\n",
       "      <td>0</td>\n",
       "      <td>0</td>\n",
       "      <td>0</td>\n",
       "      <td>0</td>\n",
       "      <td>0</td>\n",
       "      <td>0</td>\n",
       "      <td>...</td>\n",
       "      <td>0.0</td>\n",
       "      <td>0.0</td>\n",
       "      <td>0.0</td>\n",
       "      <td>0.0</td>\n",
       "      <td>0.0</td>\n",
       "      <td>0.0</td>\n",
       "      <td>0.0</td>\n",
       "      <td>0.0</td>\n",
       "      <td>0.0</td>\n",
       "      <td>0.0</td>\n",
       "    </tr>\n",
       "  </tbody>\n",
       "</table>\n",
       "<p>5 rows × 421 columns</p>\n",
       "</div>"
      ],
      "text/plain": [
       "   id  flag  pre_since_opened_0  pre_since_opened_1  pre_since_opened_2  \\\n",
       "0   0     0                   0                   1                   1   \n",
       "1   1     0                   0                   0                   1   \n",
       "2   2     0                   1                   0                   0   \n",
       "3   3     0                   0                   3                   1   \n",
       "4   4     0                   0                   0                   0   \n",
       "\n",
       "   pre_since_opened_3  pre_since_opened_4  pre_since_opened_5  \\\n",
       "0                   1                   1                   2   \n",
       "1                   0                   0                   0   \n",
       "2                   0                   0                   0   \n",
       "3                   0                   2                   1   \n",
       "4                   0                   0                   0   \n",
       "\n",
       "   pre_since_opened_6  pre_since_opened_7  ...  pre_loans530_8  \\\n",
       "0                   0                   1  ...             0.0   \n",
       "1                   0                   1  ...             0.0   \n",
       "2                   0                   0  ...             0.0   \n",
       "3                   3                   0  ...             0.0   \n",
       "4                   0                   0  ...             0.0   \n",
       "\n",
       "   pre_loans530_9  pre_loans_total_overdue_1  pre_loans_max_overdue_sum_0  \\\n",
       "0             0.0                        0.0                          0.0   \n",
       "1             0.0                        0.0                          0.0   \n",
       "2             0.0                        0.0                          0.0   \n",
       "3             0.0                        0.0                          0.0   \n",
       "4             0.0                        0.0                          0.0   \n",
       "\n",
       "   pre_loans3060_0  pre_loans3060_3  pre_loans3060_4  pre_loans6090_0  \\\n",
       "0              0.0              0.0              0.0              0.0   \n",
       "1              0.0              0.0              0.0              0.0   \n",
       "2              0.0              0.0              0.0              0.0   \n",
       "3              0.0              0.0              0.0              0.0   \n",
       "4              0.0              0.0              0.0              0.0   \n",
       "\n",
       "   pre_loans5_10  pre_loans530_17  \n",
       "0            0.0              0.0  \n",
       "1            0.0              0.0  \n",
       "2            0.0              0.0  \n",
       "3            0.0              0.0  \n",
       "4            0.0              0.0  \n",
       "\n",
       "[5 rows x 421 columns]"
      ]
     },
     "execution_count": 3,
     "metadata": {},
     "output_type": "execute_result"
    }
   ],
   "source": [
    "merged_df = pd.read_parquet(\"/kaggle/input/train-data/merged_df.parquet\")\n",
    "merged_df.head()"
   ]
  },
  {
   "cell_type": "code",
   "execution_count": 4,
   "metadata": {
    "execution": {
     "iopub.execute_input": "2025-05-22T08:58:11.991935Z",
     "iopub.status.busy": "2025-05-22T08:58:11.991122Z",
     "iopub.status.idle": "2025-05-22T08:58:14.932434Z",
     "shell.execute_reply": "2025-05-22T08:58:14.931548Z",
     "shell.execute_reply.started": "2025-05-22T08:58:11.991905Z"
    }
   },
   "outputs": [],
   "source": [
    "X = merged_df.drop(columns=['id', 'flag'])\n",
    "y = merged_df['flag']"
   ]
  },
  {
   "cell_type": "code",
   "execution_count": 5,
   "metadata": {
    "execution": {
     "iopub.execute_input": "2025-05-22T07:13:21.051423Z",
     "iopub.status.busy": "2025-05-22T07:13:21.051054Z",
     "iopub.status.idle": "2025-05-22T07:13:32.236753Z",
     "shell.execute_reply": "2025-05-22T07:13:32.235954Z",
     "shell.execute_reply.started": "2025-05-22T07:13:21.051398Z"
    }
   },
   "outputs": [],
   "source": [
    "X_train, X_val, y_train, y_val = train_test_split(\n",
    "    X, y, test_size=0.2, random_state=42, stratify=y\n",
    ")"
   ]
  },
  {
   "cell_type": "code",
   "execution_count": 6,
   "metadata": {
    "execution": {
     "iopub.execute_input": "2025-05-22T05:58:02.018240Z",
     "iopub.status.busy": "2025-05-22T05:58:02.017632Z",
     "iopub.status.idle": "2025-05-22T06:18:30.491830Z",
     "shell.execute_reply": "2025-05-22T06:18:30.490806Z",
     "shell.execute_reply.started": "2025-05-22T05:58:02.018214Z"
    }
   },
   "outputs": [
    {
     "name": "stdout",
     "output_type": "stream",
     "text": [
      "0:\ttest: 0.5202302\tbest: 0.5202302 (0)\ttotal: 1.15s\tremaining: 19m 12s\n",
      "100:\ttest: 0.7477001\tbest: 0.7477001 (100)\ttotal: 2m 18s\tremaining: 20m 31s\n",
      "200:\ttest: 0.7536812\tbest: 0.7536812 (200)\ttotal: 4m 28s\tremaining: 17m 47s\n",
      "300:\ttest: 0.7557422\tbest: 0.7557422 (300)\ttotal: 6m 26s\tremaining: 14m 58s\n",
      "400:\ttest: 0.7571647\tbest: 0.7571647 (400)\ttotal: 8m 27s\tremaining: 12m 37s\n",
      "500:\ttest: 0.7580397\tbest: 0.7580397 (500)\ttotal: 10m 27s\tremaining: 10m 24s\n",
      "600:\ttest: 0.7589005\tbest: 0.7589005 (600)\ttotal: 12m 24s\tremaining: 8m 14s\n",
      "700:\ttest: 0.7593545\tbest: 0.7593545 (700)\ttotal: 14m 21s\tremaining: 6m 7s\n",
      "800:\ttest: 0.7598461\tbest: 0.7598461 (800)\ttotal: 16m 16s\tremaining: 4m 2s\n",
      "900:\ttest: 0.7601893\tbest: 0.7601893 (900)\ttotal: 18m 13s\tremaining: 2m\n",
      "999:\ttest: 0.7606238\tbest: 0.7606238 (999)\ttotal: 20m 13s\tremaining: 0us\n",
      "\n",
      "bestTest = 0.760623814\n",
      "bestIteration = 999\n",
      "\n",
      "\\catboost roc-auc: 0.7606\n"
     ]
    }
   ],
   "source": [
    "#catboost\n",
    "\n",
    "model = CatBoostClassifier(\n",
    "    iterations=1000,\n",
    "    learning_rate=0.1,\n",
    "    depth=6,\n",
    "    eval_metric='AUC',\n",
    "    random_seed=42,\n",
    "    verbose=100,\n",
    "    early_stopping_rounds=50\n",
    ")\n",
    "\n",
    "model.fit(X_train, y_train, eval_set=(X_val, y_val))\n",
    "\n",
    "y_pred_proba = model.predict_proba(X_val)[:, 1]\n",
    "\n",
    "roc_auc = roc_auc_score(y_val, y_pred_proba)\n",
    "print(f\"catboost roc-auc: {roc_auc:.4f}\")"
   ]
  },
  {
   "cell_type": "code",
   "execution_count": 7,
   "metadata": {
    "execution": {
     "iopub.execute_input": "2025-05-22T06:18:42.505181Z",
     "iopub.status.busy": "2025-05-22T06:18:42.504822Z",
     "iopub.status.idle": "2025-05-22T06:18:42.942984Z",
     "shell.execute_reply": "2025-05-22T06:18:42.942120Z",
     "shell.execute_reply.started": "2025-05-22T06:18:42.505154Z"
    }
   },
   "outputs": [
    {
     "data": {
      "image/png": "[encoded data removed]",
      "text/plain": [
       "<Figure size 640x480 with 1 Axes>"
      ]
     },
     "metadata": {},
     "output_type": "display_data"
    }
   ],
   "source": [
    "fpr, tpr, thresholds = roc_curve(y_val, y_pred_proba)\n",
    "\n",
    "plt.plot(fpr, tpr, label=f'ROC AUC = {roc_auc:.3f}')\n",
    "plt.plot([0, 1], [0, 1], linestyle='--', color='gray')\n",
    "plt.xlabel('FP Rate')\n",
    "plt.ylabel('TP Rate')\n",
    "plt.title('ROC Curve')\n",
    "plt.legend()\n",
    "plt.grid()\n",
    "plt.show()"
   ]
  },
  {
   "cell_type": "code",
   "execution_count": 8,
   "metadata": {
    "execution": {
     "iopub.execute_input": "2025-05-22T06:18:51.913424Z",
     "iopub.status.busy": "2025-05-22T06:18:51.913072Z",
     "iopub.status.idle": "2025-05-22T06:18:51.933351Z",
     "shell.execute_reply": "2025-05-22T06:18:51.932520Z",
     "shell.execute_reply.started": "2025-05-22T06:18:51.913376Z"
    }
   },
   "outputs": [
    {
     "data": {
      "text/html": [
       "<div>\n",
       "<style scoped>\n",
       "    .dataframe tbody tr th:only-of-type {\n",
       "        vertical-align: middle;\n",
       "    }\n",
       "\n",
       "    .dataframe tbody tr th {\n",
       "        vertical-align: top;\n",
       "    }\n",
       "\n",
       "    .dataframe thead th {\n",
       "        text-align: right;\n",
       "    }\n",
       "</style>\n",
       "<table border=\"1\" class=\"dataframe\">\n",
       "  <thead>\n",
       "    <tr style=\"text-align: right;\">\n",
       "      <th></th>\n",
       "      <th>Feature Id</th>\n",
       "      <th>Importances</th>\n",
       "    </tr>\n",
       "  </thead>\n",
       "  <tbody>\n",
       "    <tr>\n",
       "      <th>0</th>\n",
       "      <td>pre_util_3</td>\n",
       "      <td>6.083341</td>\n",
       "    </tr>\n",
       "    <tr>\n",
       "      <th>1</th>\n",
       "      <td>is_zero_loans530_0</td>\n",
       "      <td>4.674974</td>\n",
       "    </tr>\n",
       "    <tr>\n",
       "      <th>2</th>\n",
       "      <td>enc_loans_credit_type_0</td>\n",
       "      <td>4.485707</td>\n",
       "    </tr>\n",
       "    <tr>\n",
       "      <th>3</th>\n",
       "      <td>pre_util_6</td>\n",
       "      <td>4.116452</td>\n",
       "    </tr>\n",
       "    <tr>\n",
       "      <th>4</th>\n",
       "      <td>pre_till_pclose_10</td>\n",
       "      <td>3.917071</td>\n",
       "    </tr>\n",
       "    <tr>\n",
       "      <th>5</th>\n",
       "      <td>is_zero_loans3060_0</td>\n",
       "      <td>2.962321</td>\n",
       "    </tr>\n",
       "    <tr>\n",
       "      <th>6</th>\n",
       "      <td>is_zero_loans6090_0</td>\n",
       "      <td>2.602673</td>\n",
       "    </tr>\n",
       "    <tr>\n",
       "      <th>7</th>\n",
       "      <td>enc_paym_0_1</td>\n",
       "      <td>2.517909</td>\n",
       "    </tr>\n",
       "    <tr>\n",
       "      <th>8</th>\n",
       "      <td>pre_loans_credit_limit_2</td>\n",
       "      <td>2.488687</td>\n",
       "    </tr>\n",
       "    <tr>\n",
       "      <th>9</th>\n",
       "      <td>enc_paym_3_0</td>\n",
       "      <td>2.440176</td>\n",
       "    </tr>\n",
       "  </tbody>\n",
       "</table>\n",
       "</div>"
      ],
      "text/plain": [
       "                 Feature Id  Importances\n",
       "0                pre_util_3     6.083341\n",
       "1        is_zero_loans530_0     4.674974\n",
       "2   enc_loans_credit_type_0     4.485707\n",
       "3                pre_util_6     4.116452\n",
       "4        pre_till_pclose_10     3.917071\n",
       "5       is_zero_loans3060_0     2.962321\n",
       "6       is_zero_loans6090_0     2.602673\n",
       "7              enc_paym_0_1     2.517909\n",
       "8  pre_loans_credit_limit_2     2.488687\n",
       "9              enc_paym_3_0     2.440176"
      ]
     },
     "execution_count": 8,
     "metadata": {},
     "output_type": "execute_result"
    }
   ],
   "source": [
    "importances = model.get_feature_importance(prettified=True)\n",
    "importances.head(10)"
   ]
  },
  {
   "cell_type": "markdown",
   "metadata": {},
   "source": [
    "Все признаки работают совместно, давая модели объемное представление о профиле заемщика. pre_util измеряет текущую долговую нагрузку, is_zero_loans отражает надежность платежной истории, enc_loans_credit_type задает базовый уровень риска по типу задолженности, а pre_till_pclose учитывает временной горизонт риска. Каждая из этих фич по-своему влияет на вероятность дефолта, и их комбинация помогает модели кредитного скоринга точнее и справедливее отличать низкорискованных клиентов от тех, кто с большей вероятностью столкнется с проблемами выплаты долга."
   ]
  },
  {
   "cell_type": "code",
   "execution_count": 9,
   "metadata": {
    "execution": {
     "iopub.execute_input": "2025-05-22T06:18:58.646461Z",
     "iopub.status.busy": "2025-05-22T06:18:58.645820Z",
     "iopub.status.idle": "2025-05-22T06:18:58.678382Z",
     "shell.execute_reply": "2025-05-22T06:18:58.677384Z",
     "shell.execute_reply.started": "2025-05-22T06:18:58.646425Z"
    }
   },
   "outputs": [
    {
     "name": "stdout",
     "output_type": "stream",
     "text": [
      "flag\n",
      "0    0.964519\n",
      "1    0.035481\n",
      "Name: proportion, dtype: float64\n"
     ]
    }
   ],
   "source": [
    "print(y.value_counts(normalize=True))"
   ]
  },
  {
   "cell_type": "code",
   "execution_count": 10,
   "metadata": {
    "execution": {
     "iopub.execute_input": "2025-05-22T06:19:11.645653Z",
     "iopub.status.busy": "2025-05-22T06:19:11.645015Z",
     "iopub.status.idle": "2025-05-22T06:25:42.034261Z",
     "shell.execute_reply": "2025-05-22T06:25:42.033172Z",
     "shell.execute_reply.started": "2025-05-22T06:19:11.645626Z"
    }
   },
   "outputs": [
    {
     "name": "stdout",
     "output_type": "stream",
     "text": [
      "Training until validation scores don't improve for 50 rounds\n",
      "[100]\ttrain's auc: 0.764058\tval's auc: 0.753576\n",
      "[200]\ttrain's auc: 0.77622\tval's auc: 0.756862\n",
      "[300]\ttrain's auc: 0.785559\tval's auc: 0.757821\n",
      "[400]\ttrain's auc: 0.793801\tval's auc: 0.758115\n",
      "Early stopping, best iteration is:\n",
      "[390]\ttrain's auc: 0.793008\tval's auc: 0.758217\n",
      "lgbm roc-auc: 0.7582\n"
     ]
    }
   ],
   "source": [
    "#lgbm\n",
    "\n",
    "lgb_train = lgb.Dataset(X_train, label=y_train)\n",
    "lgb_val = lgb.Dataset(X_val, label=y_val)\n",
    "\n",
    "params = {\n",
    "    'objective': 'binary',\n",
    "    'metric': 'auc',\n",
    "    'boosting_type': 'gbdt',\n",
    "    'learning_rate': 0.1,\n",
    "    'num_leaves': 31,\n",
    "    'scale_pos_weight': (y_train == 0).sum() / (y_train == 1).sum(),\n",
    "    'verbose': -1\n",
    "}\n",
    "\n",
    "model = lgb.train(\n",
    "    params,\n",
    "    lgb_train,\n",
    "    num_boost_round=1000,\n",
    "    valid_sets=[lgb_train, lgb_val],\n",
    "    valid_names=['train', 'val'],\n",
    "    callbacks=[\n",
    "        lgb.early_stopping(50),\n",
    "        lgb.log_evaluation(period=100)\n",
    "    ]\n",
    ")\n",
    "\n",
    "y_pred_proba = model.predict(X_val)\n",
    "roc_auc = roc_auc_score(y_val, y_pred_proba)\n",
    "print(f\"lgbm roc-auc: {roc_auc:.4f}\")"
   ]
  },
  {
   "cell_type": "code",
   "execution_count": 11,
   "metadata": {
    "execution": {
     "iopub.execute_input": "2025-05-22T06:25:55.869166Z",
     "iopub.status.busy": "2025-05-22T06:25:55.868841Z",
     "iopub.status.idle": "2025-05-22T06:34:44.980189Z",
     "shell.execute_reply": "2025-05-22T06:34:44.979397Z",
     "shell.execute_reply.started": "2025-05-22T06:25:55.869142Z"
    }
   },
   "outputs": [
    {
     "name": "stdout",
     "output_type": "stream",
     "text": [
      "[0]\ttrain-auc:0.69704\teval-auc:0.69274\n",
      "[100]\ttrain-auc:0.77342\teval-auc:0.75537\n",
      "[200]\ttrain-auc:0.78864\teval-auc:0.75892\n",
      "[289]\ttrain-auc:0.79750\teval-auc:0.75932\n",
      "xgboost roc-auc: 0.7593\n"
     ]
    }
   ],
   "source": [
    "#xgboost\n",
    "\n",
    "dtrain = xgb.DMatrix(X_train, label=y_train)\n",
    "dval = xgb.DMatrix(X_val, label=y_val)\n",
    "\n",
    "params = {\n",
    "    'objective': 'binary:logistic',\n",
    "    'eval_metric': 'auc',\n",
    "    'learning_rate': 0.1,\n",
    "    'max_depth': 6,\n",
    "    'scale_pos_weight': (y_train == 0).sum() / (y_train == 1).sum(),  # дисбаланс\n",
    "    'seed': 42,\n",
    "    'verbosity': 1\n",
    "}\n",
    "\n",
    "watchlist = [(dtrain, 'train'), (dval, 'eval')]\n",
    "model = xgb.train(\n",
    "    params,\n",
    "    dtrain,\n",
    "    num_boost_round=1000,\n",
    "    evals=watchlist,\n",
    "    early_stopping_rounds=50,\n",
    "    verbose_eval=100\n",
    ")\n",
    "\n",
    "y_pred_proba = model.predict(dval)\n",
    "roc_auc = roc_auc_score(y_val, y_pred_proba)\n",
    "print(f\"xgboost roc-auc: {roc_auc:.4f}\")"
   ]
  },
  {
   "cell_type": "code",
   "execution_count": 12,
   "metadata": {
    "execution": {
     "iopub.execute_input": "2025-05-22T06:36:51.726818Z",
     "iopub.status.busy": "2025-05-22T06:36:51.725433Z",
     "iopub.status.idle": "2025-05-22T06:36:51.733732Z",
     "shell.execute_reply": "2025-05-22T06:36:51.732689Z",
     "shell.execute_reply.started": "2025-05-22T06:36:51.726779Z"
    }
   },
   "outputs": [],
   "source": [
    "# лучший результат по метрике roc-auc у catboost - 0.7606"
   ]
  },
  {
   "cell_type": "markdown",
   "metadata": {},
   "source": [
    "## 3.FINAL PIPELINE AND PREDICTION"
   ]
  },
  {
   "cell_type": "code",
   "execution_count": 5,
   "metadata": {
    "execution": {
     "iopub.execute_input": "2025-05-22T08:58:24.722734Z",
     "iopub.status.busy": "2025-05-22T08:58:24.722355Z",
     "iopub.status.idle": "2025-05-22T09:20:35.164069Z",
     "shell.execute_reply": "2025-05-22T09:20:35.163292Z",
     "shell.execute_reply.started": "2025-05-22T08:58:24.722663Z"
    }
   },
   "outputs": [
    {
     "data": {
      "text/html": [
       "<style>#sk-container-id-1 {color: black;background-color: white;}#sk-container-id-1 pre{padding: 0;}#sk-container-id-1 div.sk-toggleable {background-color: white;}#sk-container-id-1 label.sk-toggleable__label {cursor: pointer;display: block;width: 100%;margin-bottom: 0;padding: 0.3em;box-sizing: border-box;text-align: center;}#sk-container-id-1 label.sk-toggleable__label-arrow:before {content: \"▸\";float: left;margin-right: 0.25em;color: #696969;}#sk-container-id-1 label.sk-toggleable__label-arrow:hover:before {color: black;}#sk-container-id-1 div.sk-estimator:hover label.sk-toggleable__label-arrow:before {color: black;}#sk-container-id-1 div.sk-toggleable__content {max-height: 0;max-width: 0;overflow: hidden;text-align: left;background-color: #f0f8ff;}#sk-container-id-1 div.sk-toggleable__content pre {margin: 0.2em;color: black;border-radius: 0.25em;background-color: #f0f8ff;}#sk-container-id-1 input.sk-toggleable__control:checked~div.sk-toggleable__content {max-height: 200px;max-width: 100%;overflow: auto;}#sk-container-id-1 input.sk-toggleable__control:checked~label.sk-toggleable__label-arrow:before {content: \"▾\";}#sk-container-id-1 div.sk-estimator input.sk-toggleable__control:checked~label.sk-toggleable__label {background-color: #d4ebff;}#sk-container-id-1 div.sk-label input.sk-toggleable__control:checked~label.sk-toggleable__label {background-color: #d4ebff;}#sk-container-id-1 input.sk-hidden--visually {border: 0;clip: rect(1px 1px 1px 1px);clip: rect(1px, 1px, 1px, 1px);height: 1px;margin: -1px;overflow: hidden;padding: 0;position: absolute;width: 1px;}#sk-container-id-1 div.sk-estimator {font-family: monospace;background-color: #f0f8ff;border: 1px dotted black;border-radius: 0.25em;box-sizing: border-box;margin-bottom: 0.5em;}#sk-container-id-1 div.sk-estimator:hover {background-color: #d4ebff;}#sk-container-id-1 div.sk-parallel-item::after {content: \"\";width: 100%;border-bottom: 1px solid gray;flex-grow: 1;}#sk-container-id-1 div.sk-label:hover label.sk-toggleable__label {background-color: #d4ebff;}#sk-container-id-1 div.sk-serial::before {content: \"\";position: absolute;border-left: 1px solid gray;box-sizing: border-box;top: 0;bottom: 0;left: 50%;z-index: 0;}#sk-container-id-1 div.sk-serial {display: flex;flex-direction: column;align-items: center;background-color: white;padding-right: 0.2em;padding-left: 0.2em;position: relative;}#sk-container-id-1 div.sk-item {position: relative;z-index: 1;}#sk-container-id-1 div.sk-parallel {display: flex;align-items: stretch;justify-content: center;background-color: white;position: relative;}#sk-container-id-1 div.sk-item::before, #sk-container-id-1 div.sk-parallel-item::before {content: \"\";position: absolute;border-left: 1px solid gray;box-sizing: border-box;top: 0;bottom: 0;left: 50%;z-index: -1;}#sk-container-id-1 div.sk-parallel-item {display: flex;flex-direction: column;z-index: 1;position: relative;background-color: white;}#sk-container-id-1 div.sk-parallel-item:first-child::after {align-self: flex-end;width: 50%;}#sk-container-id-1 div.sk-parallel-item:last-child::after {align-self: flex-start;width: 50%;}#sk-container-id-1 div.sk-parallel-item:only-child::after {width: 0;}#sk-container-id-1 div.sk-dashed-wrapped {border: 1px dashed gray;margin: 0 0.4em 0.5em 0.4em;box-sizing: border-box;padding-bottom: 0.4em;background-color: white;}#sk-container-id-1 div.sk-label label {font-family: monospace;font-weight: bold;display: inline-block;line-height: 1.2em;}#sk-container-id-1 div.sk-label-container {text-align: center;}#sk-container-id-1 div.sk-container {/* jupyter's `normalize.less` sets `[hidden] { display: none; }` but bootstrap.min.css set `[hidden] { display: none !important; }` so we also need the `!important` here to be able to override the default hidden behavior on the sphinx rendered scikit-learn.org. See: https://github.com/scikit-learn/scikit-learn/issues/21755 */display: inline-block !important;position: relative;}#sk-container-id-1 div.sk-text-repr-fallback {display: none;}</style><div id=\"sk-container-id-1\" class=\"sk-top-container\"><div class=\"sk-text-repr-fallback\"><pre>CreditScoringPipeline(model_params={&#x27;depth&#x27;: 6, &#x27;early_stopping_rounds&#x27;: 50,\n",
       "                                    &#x27;eval_metric&#x27;: &#x27;AUC&#x27;, &#x27;iterations&#x27;: 1000,\n",
       "                                    &#x27;learning_rate&#x27;: 0.1, &#x27;random_seed&#x27;: 42,\n",
       "                                    &#x27;verbose&#x27;: False})</pre><b>In a Jupyter environment, please rerun this cell to show the HTML representation or trust the notebook. <br />On GitHub, the HTML representation is unable to render, please try loading this page with nbviewer.org.</b></div><div class=\"sk-container\" hidden><div class=\"sk-item\"><div class=\"sk-estimator sk-toggleable\"><input class=\"sk-toggleable__control sk-hidden--visually\" id=\"sk-estimator-id-1\" type=\"checkbox\" checked><label for=\"sk-estimator-id-1\" class=\"sk-toggleable__label sk-toggleable__label-arrow\">CreditScoringPipeline</label><div class=\"sk-toggleable__content\"><pre>CreditScoringPipeline(model_params={&#x27;depth&#x27;: 6, &#x27;early_stopping_rounds&#x27;: 50,\n",
       "                                    &#x27;eval_metric&#x27;: &#x27;AUC&#x27;, &#x27;iterations&#x27;: 1000,\n",
       "                                    &#x27;learning_rate&#x27;: 0.1, &#x27;random_seed&#x27;: 42,\n",
       "                                    &#x27;verbose&#x27;: False})</pre></div></div></div></div></div>"
      ],
      "text/plain": [
       "CreditScoringPipeline(model_params={'depth': 6, 'early_stopping_rounds': 50,\n",
       "                                    'eval_metric': 'AUC', 'iterations': 1000,\n",
       "                                    'learning_rate': 0.1, 'random_seed': 42,\n",
       "                                    'verbose': False})"
      ]
     },
     "execution_count": 5,
     "metadata": {},
     "output_type": "execute_result"
    }
   ],
   "source": [
    "pipeline = CreditScoringPipeline()\n",
    "pipeline.fit(X, y)"
   ]
  },
  {
   "cell_type": "code",
   "execution_count": 6,
   "metadata": {
    "execution": {
     "iopub.execute_input": "2025-05-22T09:21:43.170267Z",
     "iopub.status.busy": "2025-05-22T09:21:43.168925Z",
     "iopub.status.idle": "2025-05-22T09:21:43.259461Z",
     "shell.execute_reply": "2025-05-22T09:21:43.258529Z",
     "shell.execute_reply.started": "2025-05-22T09:21:43.170217Z"
    }
   },
   "outputs": [],
   "source": [
    "with open(\"credit_pipeline.pkl\", \"wb\") as f:\n",
    "    pickle.dump(pipeline, f)"
   ]
  },
  {
   "cell_type": "code",
   "execution_count": 7,
   "metadata": {
    "execution": {
     "iopub.execute_input": "2025-05-22T09:21:47.926651Z",
     "iopub.status.busy": "2025-05-22T09:21:47.926312Z",
     "iopub.status.idle": "2025-05-22T09:21:57.754163Z",
     "shell.execute_reply": "2025-05-22T09:21:57.752707Z",
     "shell.execute_reply.started": "2025-05-22T09:21:47.926625Z"
    }
   },
   "outputs": [],
   "source": [
    "y_pred = pipeline.predict(X)\n",
    "submission = pd.DataFrame({\n",
    "    \"id\": merged_df[\"id\"],\n",
    "    \"prediction\": y_pred\n",
    "})\n",
    "submission.to_csv(\"test_predictions.csv\", index=False)"
   ]
  },
  {
   "cell_type": "code",
   "execution_count": 8,
   "metadata": {
    "execution": {
     "iopub.execute_input": "2025-05-22T09:22:08.106769Z",
     "iopub.status.busy": "2025-05-22T09:22:08.106422Z",
     "iopub.status.idle": "2025-05-22T09:22:08.620534Z",
     "shell.execute_reply": "2025-05-22T09:22:08.619608Z",
     "shell.execute_reply.started": "2025-05-22T09:22:08.106743Z"
    }
   },
   "outputs": [
    {
     "data": {
      "text/plain": [
       "prediction\n",
       "0    0.876261\n",
       "1    0.123739\n",
       "Name: proportion, dtype: float64"
      ]
     },
     "execution_count": 8,
     "metadata": {},
     "output_type": "execute_result"
    }
   ],
   "source": [
    "# preds check\n",
    "# threshold 0.07\n",
    "\n",
    "df_preds = pd.read_csv(\"test_predictions.csv\")\n",
    "df_preds[\"prediction\"].value_counts(normalize=True)"
   ]
  },
  {
   "cell_type": "code",
   "execution_count": 9,
   "metadata": {
    "execution": {
     "iopub.execute_input": "2025-05-22T09:22:12.250933Z",
     "iopub.status.busy": "2025-05-22T09:22:12.250562Z",
     "iopub.status.idle": "2025-05-22T09:22:12.255620Z",
     "shell.execute_reply": "2025-05-22T09:22:12.254388Z",
     "shell.execute_reply.started": "2025-05-22T09:22:12.250908Z"
    }
   },
   "outputs": [],
   "source": [
    "# 12.3% положительных предсказаний при threshold 0.07 показывает чуть больше\n",
    "# чувствительности; истинная доля около 3.5%, как я указывал выше;\n",
    "# с учетом того, что основная масса вероятности класса 1 в районе 0.00-0.05 - получаем\n",
    "# неплохой результат и компромисс между recall и precision (то есть для данного кейса\n",
    "# лучше немного перестраховаться, чем пропустить рискового клиента)"
   ]
  },
  {
   "cell_type": "code",
   "execution_count": 10,
   "metadata": {
    "execution": {
     "iopub.execute_input": "2025-05-22T09:22:16.686735Z",
     "iopub.status.busy": "2025-05-22T09:22:16.686327Z",
     "iopub.status.idle": "2025-05-22T09:22:24.486132Z",
     "shell.execute_reply": "2025-05-22T09:22:24.485120Z",
     "shell.execute_reply.started": "2025-05-22T09:22:16.686703Z"
    }
   },
   "outputs": [
    {
     "data": {
      "image/png": "[encoded data removed]",
      "text/plain": [
       "<Figure size 700x300 with 1 Axes>"
      ]
     },
     "metadata": {},
     "output_type": "display_data"
    }
   ],
   "source": [
    "probas = pipeline.predict_proba(X)[:, 1]\n",
    "plt.figure(figsize=(7, 3))\n",
    "plt.hist(probas, bins=100, edgecolor='black')\n",
    "plt.title(\"Распределение вероятностей класса 1\")\n",
    "plt.xlabel(\"Probability\")\n",
    "plt.ylabel(\"Count\")\n",
    "plt.grid(True)\n",
    "plt.show()"
   ]
  }
 ],
 "metadata": {
  "kaggle": {
   "accelerator": "none",
   "dataSources": [
    {
     "datasetId": 7401674,
     "sourceId": 11892330,
     "sourceType": "datasetVersion"
    },
    {
     "datasetId": 7480727,
     "sourceId": 11903765,
     "sourceType": "datasetVersion"
    }
   ],
   "dockerImageVersionId": 31012,
   "isGpuEnabled": false,
   "isInternetEnabled": true,
   "language": "python",
   "sourceType": "notebook"
  },
  "kernelspec": {
   "display_name": "Python 3 (ipykernel)",
   "language": "python",
   "name": "python3"
  },
  "language_info": {
   "codemirror_mode": {
    "name": "ipython",
    "version": 3
   },
   "file_extension": ".py",
   "mimetype": "text/x-python",
   "name": "python",
   "nbconvert_exporter": "python",
   "pygments_lexer": "ipython3",
   "version": "3.12.4"
  }
 },
 "nbformat": 4,
 "nbformat_minor": 4
}
